{
 "cells": [
  {
   "cell_type": "code",
   "execution_count": null,
   "id": "57f384c8-bc50-4150-97a7-e6939e385169",
   "metadata": {},
   "outputs": [],
   "source": [
    "# %%\n",
    "\n",
    "def filter_popular(reacts_2D, names, threshold) -> list:\n",
    "    \"\"\"Filters a list of names to only include those whose total engagement (likes, etc.) meets a given threshold.\n",
    "\n",
    "    Args:\n",
    "        reacts_2D: A 2D list where each sublist represents the engagement counts (likes, etc.) for a corresponding name.\n",
    "        names: A list of names corresponding to the engagement data in `reacts_2D`.\n",
    "        threshold: The minimum total engagement count required for a name to be considered \"popular\".\n",
    "\n",
    "    Returns:\n",
    "        A new list containing only the names from `names` whose total engagement count in `reacts_2D` is greater than or equal to `threshold`.\n",
    "    \"\"\"\n",
    "    # Initialize a list to store popular users\n",
    "    popular_users = []\n",
    "\n",
    "    # Iterate over each user's engagement data and name\n",
    "    for i in range(len(reacts_2D)):\n",
    "        # Calculate the sum of engagements for each user\n",
    "        total_engagement = 0\n",
    "\n",
    "        for count in reacts_2D[i]:\n",
    "            total_engagement += count\n",
    "        # Check if the total engagement meets the threshold\n",
    "\n",
    "        if total_engagement >= threshold:\n",
    "            popular_users.append(names[i])\n",
    "\n",
    "    return popular_users"
   ]
  },
  {
   "cell_type": "code",
   "execution_count": null,
   "id": "3e1eda7a-7f86-4701-9034-0b75f05183fd",
   "metadata": {},
   "outputs": [
    {
     "data": {
      "text/plain": [
       "['crazy_guy', 'amicoolyet']"
      ]
     },
     "execution_count": 2,
     "metadata": {},
     "output_type": "execute_result"
    }
   ],
   "source": [
    "# %%\n",
    "\n",
    "filter_popular(\n",
    "    [[4, 9, 6, 5], [1, 2, 3, 5, 8], [17, 2, 9]], [\"crazy_guy\", \"solid321\", \"amicoolyet\"], 22\n",
    ")  # ['crazy_guy', 'amicoolyet']"
   ]
  },
  {
   "cell_type": "code",
   "execution_count": null,
   "id": "ce099446-de4d-48c3-9d84-42e35461f29d",
   "metadata": {},
   "outputs": [
    {
     "data": {
      "text/plain": [
       "['crazy_guy', 'solid321', 'amicoolyet']"
      ]
     },
     "execution_count": 3,
     "metadata": {},
     "output_type": "execute_result"
    }
   ],
   "source": [
    "# %%\n",
    "\n",
    "filter_popular(\n",
    "    [[4, 9, 6, 5], [1, 2, 3, 5, 8], [17, 2, 9]], [\"crazy_guy\", \"solid321\", \"amicoolyet\"], 15\n",
    ")  # ['crazy_guy', 'solid321', 'amicoolyet']"
   ]
  },
  {
   "cell_type": "code",
   "execution_count": null,
   "id": "99e181f3-5d31-40cd-865a-0ecfba33db4e",
   "metadata": {},
   "outputs": [
    {
     "data": {
      "text/plain": [
       "['simon23']"
      ]
     },
     "execution_count": 4,
     "metadata": {},
     "output_type": "execute_result"
    }
   ],
   "source": [
    "# %%\n",
    "\n",
    "filter_popular(\n",
    "    [[31], [22, 1, 1], [2, 2, 11, 65]], [\"alien\", \"tomato2\", \"simon23\"], 50\n",
    ")  # ['simon23']"
   ]
  },
  {
   "cell_type": "code",
   "execution_count": null,
   "id": "2bd239da-d6de-4329-9eff-9d1c5479d500",
   "metadata": {},
   "outputs": [
    {
     "data": {
      "text/plain": [
       "['alien']"
      ]
     },
     "execution_count": 5,
     "metadata": {},
     "output_type": "execute_result"
    }
   ],
   "source": [
    "# %%\n",
    "\n",
    "filter_popular([[31], [22, 1, 1], []], [\"alien\", \"tomato2\", \"simon23\"], 30)  # ['alien']"
   ]
  },
  {
   "cell_type": "code",
   "execution_count": null,
   "id": "8f916da6-7536-4637-ada2-efa079ea6d78",
   "metadata": {},
   "outputs": [
    {
     "data": {
      "text/plain": [
       "[]"
      ]
     },
     "execution_count": 6,
     "metadata": {},
     "output_type": "execute_result"
    }
   ],
   "source": [
    "# %%\n",
    "\n",
    "filter_popular([], [\"alien\", \"tomato2\", \"simon23\"], 50)  # []"
   ]
  },
  {
   "cell_type": "code",
   "execution_count": null,
   "id": "02bfd535-bc76-4043-9487-f00ae3b5710f",
   "metadata": {},
   "outputs": [],
   "source": [
    "# %%\n",
    "\n",
    "def gather_engagement(names, reacts, grouping) -> list:\n",
    "    \"\"\"Groups engagement data (likes, comments, etc.) for each user based on a grouping list.\n",
    "\n",
    "    Args:\n",
    "        names: A list of user names.\n",
    "        reacts: A list containing engagement data (likes, comments, etc.) for all users.\n",
    "        grouping: A list of integers representing the number of engagement data points for each user.\n",
    "\n",
    "    Returns:\n",
    "        A list of lists, where each sublist represents a user and contains their name followed by their grouped engagement data.\n",
    "    \"\"\"\n",
    "    # Initialize a list to store grouped engagement data\n",
    "    grouped_engagements = []\n",
    "    index = 0  # To keep track of reacts list index\n",
    "\n",
    "    for i in range(len(names)):\n",
    "        user_data = [names[i]]\n",
    "        # Get the number of engagement data counts for each user\n",
    "\n",
    "        for _ in range(grouping[i]):\n",
    "            user_data.append(reacts[index])\n",
    "            index += 1\n",
    "\n",
    "        grouped_engagements.append(user_data)\n",
    "\n",
    "    return grouped_engagements"
   ]
  },
  {
   "cell_type": "code",
   "execution_count": null,
   "id": "8632d361-e6e9-4954-a9e7-95e072199087",
   "metadata": {},
   "outputs": [
    {
     "data": {
      "text/plain": [
       "[['crazy_guy', 4, 9, 6, 5],\n",
       " ['solid321', 1, 2, 3, 5, 8],\n",
       " ['amicoolyet', 17, 2, 9]]"
      ]
     },
     "execution_count": 8,
     "metadata": {},
     "output_type": "execute_result"
    }
   ],
   "source": [
    "# %%\n",
    "\n",
    "gather_engagement(\n",
    "    [\"crazy_guy\", \"solid321\", \"amicoolyet\"], [4, 9, 6, 5, 1, 2, 3, 5, 8, 17, 2, 9], [4, 5, 3]\n",
    ")  # [['crazy_guy', 4, 9, 6, 5], ['solid321', 1, 2, 3, 5, 8], ['amicoolyet', 17, 2, 9]]"
   ]
  },
  {
   "cell_type": "code",
   "execution_count": null,
   "id": "cb800cb2-40e7-4f33-8f5a-b8d16f3b57a9",
   "metadata": {},
   "outputs": [
    {
     "data": {
      "text/plain": [
       "[['crazy_guy', 4, 9],\n",
       " ['solid321', 6],\n",
       " ['amicoolyet', 5, 1, 2, 3, 5, 8, 17, 2, 9]]"
      ]
     },
     "execution_count": 9,
     "metadata": {},
     "output_type": "execute_result"
    }
   ],
   "source": [
    "# %%\n",
    "\n",
    "gather_engagement(\n",
    "    [\"crazy_guy\", \"solid321\", \"amicoolyet\"], [4, 9, 6, 5, 1, 2, 3, 5, 8, 17, 2, 9], [2, 1, 9]\n",
    ")  # [['crazy_guy', 4, 9], ['solid321', 6], ['amicoolyet', 5, 1, 2, 3, 5, 8, 17, 2, 9]]"
   ]
  },
  {
   "cell_type": "code",
   "execution_count": null,
   "id": "6a876b0a-bcde-4492-be07-d4b30f4fb9cd",
   "metadata": {},
   "outputs": [
    {
     "data": {
      "text/plain": [
       "[['butter12'], ['helloworld', 40, 3, 35, 7]]"
      ]
     },
     "execution_count": 10,
     "metadata": {},
     "output_type": "execute_result"
    }
   ],
   "source": [
    "# %%\n",
    "\n",
    "gather_engagement(\n",
    "    [\"butter12\", \"helloworld\"], [40, 3, 35, 7], [0, 4]\n",
    ")  # [['butter12'], ['helloworld', 40, 3, 35, 7]]"
   ]
  },
  {
   "cell_type": "code",
   "execution_count": null,
   "id": "355be5d4-9381-4291-bdb8-3f20ea5a435d",
   "metadata": {},
   "outputs": [],
   "source": [
    "# %%\n",
    "\n",
    "def clear_zeros(reacts_2D) -> list:\n",
    "    \"\"\"Removes all occurrences of zero from a 2D list.\n",
    "\n",
    "    Args:\n",
    "        reacts_2D:  A 2D list, potentially containing zeros.\n",
    "\n",
    "    Returns:\n",
    "        A new 2D list with all zeros removed.\n",
    "    \"\"\"\n",
    "    # Initialize a list to store cleared engagement data\n",
    "    cleared_reacts = []\n",
    "\n",
    "    for user_data in reacts_2D:\n",
    "        cleaned_data = []\n",
    "        # Remove zeros from each user's data\n",
    "\n",
    "        for value in user_data:\n",
    "            if value != 0:\n",
    "                cleaned_data.append(value)\n",
    "\n",
    "        # Add only non-empty lists\n",
    "        if cleaned_data:\n",
    "            cleared_reacts.append(cleaned_data)\n",
    "\n",
    "    return cleared_reacts"
   ]
  },
  {
   "cell_type": "code",
   "execution_count": null,
   "id": "f9478c8c-d243-4076-a2cd-d4eb91a88081",
   "metadata": {},
   "outputs": [
    {
     "data": {
      "text/plain": [
       "[[4, 9], [1, 2, 5, 8], [17, 2]]"
      ]
     },
     "execution_count": 12,
     "metadata": {},
     "output_type": "execute_result"
    }
   ],
   "source": [
    "# %%\n",
    "\n",
    "user_reacts = [[4, 9, 0, 0], [1, 2, 0, 5, 8], [17, 2, 0]]\n",
    "clear_zeros(user_reacts)  # [[4, 9], [1, 2, 5, 8], [17, 2]]"
   ]
  },
  {
   "cell_type": "code",
   "execution_count": null,
   "id": "9a966e05-b0a7-4f63-b109-dd2f42be6169",
   "metadata": {},
   "outputs": [
    {
     "data": {
      "text/plain": [
       "[[1, 2], [17, 2, 4]]"
      ]
     },
     "execution_count": 13,
     "metadata": {},
     "output_type": "execute_result"
    }
   ],
   "source": [
    "# %%\n",
    "\n",
    "user_reacts = [[1, 2, 0], [0, 0, 0], [17, 2, 4, 0]]\n",
    "clear_zeros(user_reacts)  # [[1, 2], [17, 2, 4]]"
   ]
  },
  {
   "cell_type": "code",
   "execution_count": null,
   "id": "95a2e907-cca0-4b49-8ae4-a21a3fe391e4",
   "metadata": {},
   "outputs": [
    {
     "data": {
      "text/plain": [
       "[[40, 3], [35, 7]]"
      ]
     },
     "execution_count": 14,
     "metadata": {},
     "output_type": "execute_result"
    }
   ],
   "source": [
    "# %%\n",
    "\n",
    "user_reacts = [[40, 3], [35, 7]]\n",
    "clear_zeros(user_reacts)  # [[40, 3], [35, 7]]"
   ]
  },
  {
   "cell_type": "code",
   "execution_count": null,
   "id": "c0f991e3-3397-4b02-b0b6-676bd2306126",
   "metadata": {},
   "outputs": [],
   "source": [
    "# %%\n",
    "\n",
    "def form_reactions_list(react_dict1, react_dict2) -> list:\n",
    "    \"\"\"Combines two dictionaries of reactions and returns a list of lists.\n",
    "\n",
    "    Args:\n",
    "        react_dict1: The first dictionary of reactions.\n",
    "        react_dict2: The second dictionary of reactions.\n",
    "\n",
    "    Returns:\n",
    "        A list of lists, where each sublist contains the reaction type and its combined count from both input dictionaries.\n",
    "    \"\"\"\n",
    "    # Initialize a dictionary to store the combined reactions\n",
    "    combined_reacts = {}\n",
    "\n",
    "    # Combine both dictionaries\n",
    "    for key, value in react_dict1.items():\n",
    "        combined_reacts[key] = value\n",
    "\n",
    "    for key, value in react_dict2.items():\n",
    "        if key in combined_reacts:\n",
    "            combined_reacts[key] += value\n",
    "        else:\n",
    "            combined_reacts[key] = value\n",
    "\n",
    "    # Convert dictionary to 2D list format\n",
    "    reactions_list = []\n",
    "    for key, value in combined_reacts.items():\n",
    "        reactions_list.append([key, value])\n",
    "\n",
    "    return reactions_list"
   ]
  },
  {
   "cell_type": "code",
   "execution_count": null,
   "id": "ee09ab6b-91e2-4e4e-a74a-2bdec9b0a7a1",
   "metadata": {},
   "outputs": [
    {
     "data": {
      "text/plain": [
       "[['like', 10], ['comment', 10], ['share', 3], ['love', 10], ['wow', 2]]"
      ]
     },
     "execution_count": 16,
     "metadata": {},
     "output_type": "execute_result"
    }
   ],
   "source": [
    "# %%\n",
    "\n",
    "react1 = {\"like\": 5, \"comment\": 10, \"share\": 3}\n",
    "react2 = {\"love\": 10, \"like\": 5, \"wow\": 2}\n",
    "form_reactions_list(\n",
    "    react1, react2\n",
    ")  # [['like', 10], ['comment', 10], ['share', 3], ['love', 10], ['wow', 2]]"
   ]
  },
  {
   "cell_type": "code",
   "execution_count": null,
   "id": "a4012dd7-0ed8-46f3-a5eb-f724c418956a",
   "metadata": {},
   "outputs": [
    {
     "data": {
      "text/plain": [
       "[['wow', 68], ['angry', 18], ['comment', 2], ['sad', 84]]"
      ]
     },
     "execution_count": 17,
     "metadata": {},
     "output_type": "execute_result"
    }
   ],
   "source": [
    "# %%\n",
    "\n",
    "react1 = {\"wow\": 34, \"angry\": 9, \"comment\": 1, \"sad\": 42}\n",
    "react2 = {\"wow\": 34, \"angry\": 9, \"comment\": 1, \"sad\": 42}\n",
    "form_reactions_list(react1, react2)  # [['wow', 68], ['angry', 18], ['comment', 2], ['sad', 84]]"
   ]
  },
  {
   "cell_type": "code",
   "execution_count": null,
   "id": "2996ef7e-6ada-4f0d-9018-af9962568c17",
   "metadata": {},
   "outputs": [
    {
     "data": {
      "text/plain": [
       "[['angry', 54], ['love', 11], ['share', 21]]"
      ]
     },
     "execution_count": 18,
     "metadata": {},
     "output_type": "execute_result"
    }
   ],
   "source": [
    "# %%\n",
    "\n",
    "react1 = {\"angry\": 54, \"love\": 11}\n",
    "react2 = {\"share\": 21}\n",
    "form_reactions_list(react1, react2)  # [['angry', 54], ['love', 11], ['share', 21]]"
   ]
  }
 ],
 "metadata": {
  "language_info": {
   "codemirror_mode": {
    "name": "ipython",
    "version": 3
   },
   "file_extension": ".py",
   "mimetype": "text/x-python",
   "name": "python",
   "nbconvert_exporter": "python",
   "pygments_lexer": "ipython3",
   "version": 3
  }
 },
 "nbformat": 4,
 "nbformat_minor": 2
}
