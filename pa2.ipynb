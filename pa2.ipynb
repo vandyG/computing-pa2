{
 "cells": [
  {
   "cell_type": "code",
   "execution_count": 15,
   "id": "f243cca8-7646-4ee8-b724-f310742a1597",
   "metadata": {},
   "outputs": [],
   "source": [
    "# %%\n",
    "\n",
    "from typing import List\n",
    "\n",
    "\n",
    "def filter_popular(reacts_2D: List[List[int]], names: List[str], threshold: int) -> List[str]:\n",
    "    \"\"\"Filters a list of names to only include those whose total engagement (likes, etc.) meets a given threshold.\n",
    "\n",
    "    Args:\n",
    "        reacts_2D: A 2D list where each sublist represents the engagement counts (likes, etc.) for a corresponding name.\n",
    "        names: A list of names corresponding to the engagement data in `reacts_2D`.\n",
    "        threshold: The minimum total engagement count required for a name to be considered \"popular\".\n",
    "\n",
    "    Returns:\n",
    "        A new list containing only the names from `names` whose total engagement count in `reacts_2D` is greater than or equal to `threshold`.\n",
    "    \"\"\"\n",
    "    popular = []  # Initialize an empty list to store the popular names\n",
    "\n",
    "    for index, name in enumerate(names):  # Iterate through each name along with its index\n",
    "        if len(reacts_2D) == 0:\n",
    "            break\n",
    "\n",
    "        engagement_counts = reacts_2D[index]  # Get the engagement counts for the current name\n",
    "        total_count = 0  # Initialize the total engagement count for the current name\n",
    "\n",
    "        for (\n",
    "            count\n",
    "        ) in engagement_counts:  # Iterate through each engagement count for the current name\n",
    "            total_count += count  # Add the current engagement count to the total\n",
    "\n",
    "        if total_count >= threshold:  # Check if the total engagement count meets the threshold\n",
    "            popular.append(name)  # If the threshold is met, add the name to the popular list\n",
    "\n",
    "    return popular  # Return the list of popular names"
   ]
  },
  {
   "cell_type": "code",
   "execution_count": 16,
   "id": "a9719271-3e26-4a91-9b97-b9959b038e57",
   "metadata": {},
   "outputs": [
    {
     "data": {
      "text/plain": [
       "['crazy_guy', 'amicoolyet']"
      ]
     },
     "execution_count": 16,
     "metadata": {},
     "output_type": "execute_result"
    }
   ],
   "source": [
    "# %%\n",
    "\n",
    "filter_popular(\n",
    "    [[4, 9, 6, 5], [1, 2, 3, 5, 8], [17, 2, 9]], [\"crazy_guy\", \"solid321\", \"amicoolyet\"], 22\n",
    ")  # ['crazy_guy', 'amicoolyet']"
   ]
  },
  {
   "cell_type": "code",
   "execution_count": 17,
   "id": "d481f4b3-339c-4b5f-a641-f46efb5ff39b",
   "metadata": {},
   "outputs": [
    {
     "data": {
      "text/plain": [
       "['crazy_guy', 'solid321', 'amicoolyet']"
      ]
     },
     "execution_count": 17,
     "metadata": {},
     "output_type": "execute_result"
    }
   ],
   "source": [
    "# %%\n",
    "\n",
    "filter_popular(\n",
    "    [[4, 9, 6, 5], [1, 2, 3, 5, 8], [17, 2, 9]], [\"crazy_guy\", \"solid321\", \"amicoolyet\"], 15\n",
    ")  # ['crazy_guy', 'solid321', 'amicoolyet']"
   ]
  },
  {
   "cell_type": "code",
   "execution_count": 18,
   "id": "d13e7c40-8e37-4975-bd37-f8737753e2b0",
   "metadata": {},
   "outputs": [
    {
     "data": {
      "text/plain": [
       "['simon23']"
      ]
     },
     "execution_count": 18,
     "metadata": {},
     "output_type": "execute_result"
    }
   ],
   "source": [
    "# %%\n",
    "\n",
    "filter_popular(\n",
    "    [[31], [22, 1, 1], [2, 2, 11, 65]], [\"alien\", \"tomato2\", \"simon23\"], 50\n",
    ")  # ['simon23']"
   ]
  },
  {
   "cell_type": "code",
   "execution_count": null,
   "metadata": {},
   "outputs": [
    {
     "data": {
      "text/plain": [
       "[]"
      ]
     },
     "execution_count": 19,
     "metadata": {},
     "output_type": "execute_result"
    }
   ],
   "source": [
    "# %%\n",
    "\n",
    "filter_popular(\n",
    "    [], [\"alien\", \"tomato2\", \"simon23\"], 50\n",
    ")  # []"
   ]
  },
  {
   "cell_type": "code",
   "execution_count": null,
   "metadata": {},
   "outputs": [
    {
     "data": {
      "text/plain": [
       "['alien']"
      ]
     },
     "execution_count": 22,
     "metadata": {},
     "output_type": "execute_result"
    }
   ],
   "source": [
    "# %%\n",
    "\n",
    "filter_popular(\n",
    "    [[31], [22, 1, 1], []], [\"alien\", \"tomato2\", \"simon23\"], 30\n",
    ")  # ['alien']"
   ]
  },
  {
   "cell_type": "code",
   "execution_count": 20,
   "id": "1d48675f-e18e-42bb-8a5d-5d21bd2946ce",
   "metadata": {},
   "outputs": [],
   "source": [
    "# %%\n",
    "\n",
    "def gather_engagement(names: List[str], reacts, grouping):\n",
    "    pass"
   ]
  }
 ],
 "metadata": {
  "language_info": {
   "codemirror_mode": {
    "name": "ipython",
    "version": 3
   },
   "file_extension": ".py",
   "mimetype": "text/x-python",
   "name": "python",
   "nbconvert_exporter": "python",
   "pygments_lexer": "ipython3",
   "version": 3
  }
 },
 "nbformat": 4,
 "nbformat_minor": 2
}
