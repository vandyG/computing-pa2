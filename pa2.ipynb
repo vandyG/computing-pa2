{
 "cells": [
  {
   "cell_type": "code",
   "execution_count": null,
   "id": "f6c41075-d9ad-46b9-9fed-2aafc7ea8cbf",
   "metadata": {},
   "outputs": [],
   "source": [
    "# %%\n",
    "\n",
    "def filter_popular(reacts_2D, names, threshold) -> list:\n",
    "    \"\"\"Filters a list of names to only include those whose total engagement (likes, etc.) meets a given threshold.\n",
    "\n",
    "    Args:\n",
    "        reacts_2D: A 2D list where each sublist represents the engagement counts (likes, etc.) for a corresponding name.\n",
    "        names: A list of names corresponding to the engagement data in `reacts_2D`.\n",
    "        threshold: The minimum total engagement count required for a name to be considered \"popular\".\n",
    "\n",
    "    Returns:\n",
    "        A new list containing only the names from `names` whose total engagement count in `reacts_2D` is greater than or equal to `threshold`.\n",
    "    \"\"\"\n",
    "    # Initialize a list to store popular users\n",
    "    popular_users = []\n",
    "\n",
    "    # Iterate over each user's engagement data and name\n",
    "    for i in range(len(reacts_2D)):\n",
    "        # Calculate the sum of engagements for each user\n",
    "        total_engagement = 0\n",
    "\n",
    "        for count in reacts_2D[i]:\n",
    "            total_engagement += count\n",
    "        # Check if the total engagement meets the threshold\n",
    "\n",
    "        if total_engagement >= threshold:\n",
    "            popular_users.append(names[i])\n",
    "\n",
    "    return popular_users"
   ]
  },
  {
   "cell_type": "code",
   "execution_count": null,
   "id": "8f3963d3-b4c9-45e1-9690-61a958c9ad92",
   "metadata": {},
   "outputs": [
    {
     "data": {
      "text/plain": [
       "['crazy_guy', 'amicoolyet']"
      ]
     },
     "execution_count": 2,
     "metadata": {},
     "output_type": "execute_result"
    }
   ],
   "source": [
    "# %%\n",
    "\n",
    "filter_popular(\n",
    "    [[4, 9, 6, 5], [1, 2, 3, 5, 8], [17, 2, 9]], [\"crazy_guy\", \"solid321\", \"amicoolyet\"], 22\n",
    ")  # ['crazy_guy', 'amicoolyet']"
   ]
  },
  {
   "cell_type": "code",
   "execution_count": null,
   "id": "e0eb0d83-4ae5-4784-8b1a-e0be292277d5",
   "metadata": {},
   "outputs": [
    {
     "data": {
      "text/plain": [
       "['crazy_guy', 'solid321', 'amicoolyet']"
      ]
     },
     "execution_count": 3,
     "metadata": {},
     "output_type": "execute_result"
    }
   ],
   "source": [
    "# %%\n",
    "\n",
    "filter_popular(\n",
    "    [[4, 9, 6, 5], [1, 2, 3, 5, 8], [17, 2, 9]], [\"crazy_guy\", \"solid321\", \"amicoolyet\"], 15\n",
    ")  # ['crazy_guy', 'solid321', 'amicoolyet']"
   ]
  },
  {
   "cell_type": "code",
   "execution_count": null,
   "id": "4b4ec5b4-ae5f-434a-b778-3952c079be13",
   "metadata": {},
   "outputs": [
    {
     "data": {
      "text/plain": [
       "['simon23']"
      ]
     },
     "execution_count": 4,
     "metadata": {},
     "output_type": "execute_result"
    }
   ],
   "source": [
    "# %%\n",
    "\n",
    "filter_popular(\n",
    "    [[31], [22, 1, 1], [2, 2, 11, 65]], [\"alien\", \"tomato2\", \"simon23\"], 50\n",
    ")  # ['simon23']"
   ]
  },
  {
   "cell_type": "code",
   "execution_count": null,
   "id": "8183b7dd-5916-4764-a8bf-113e18b1445f",
   "metadata": {},
   "outputs": [
    {
     "data": {
      "text/plain": [
       "['alien']"
      ]
     },
     "execution_count": 5,
     "metadata": {},
     "output_type": "execute_result"
    }
   ],
   "source": [
    "# %%\n",
    "\n",
    "filter_popular([[31], [22, 1, 1], []], [\"alien\", \"tomato2\", \"simon23\"], 30)  # ['alien']"
   ]
  },
  {
   "cell_type": "code",
   "execution_count": null,
   "id": "3d38767d-336c-4cef-b2d0-1cb51948eed3",
   "metadata": {},
   "outputs": [
    {
     "data": {
      "text/plain": [
       "[]"
      ]
     },
     "execution_count": 6,
     "metadata": {},
     "output_type": "execute_result"
    }
   ],
   "source": [
    "# %%\n",
    "\n",
    "filter_popular([], [\"alien\", \"tomato2\", \"simon23\"], 50)  # []"
   ]
  },
  {
   "cell_type": "code",
   "execution_count": null,
   "id": "cb7305c0-1972-4959-a210-6eefe359444b",
   "metadata": {},
   "outputs": [],
   "source": [
    "# %%\n",
    "\n",
    "def gather_engagement(names, reacts, grouping) -> list:\n",
    "    \"\"\"Groups engagement data (likes, comments, etc.) for each user based on a grouping list.\n",
    "\n",
    "    Args:\n",
    "        names: A list of user names.\n",
    "        reacts: A list containing engagement data (likes, comments, etc.) for all users.\n",
    "        grouping: A list of integers representing the number of engagement data points for each user.\n",
    "\n",
    "    Returns:\n",
    "        A list of lists, where each sublist represents a user and contains their name followed by their grouped engagement data.\n",
    "    \"\"\"\n",
    "    # Initialize a list to store grouped engagement data\n",
    "    grouped_engagements = []\n",
    "    index = 0  # To keep track of reacts list index\n",
    "\n",
    "    for i in range(len(names)):\n",
    "        user_data = [names[i]]\n",
    "        # Get the number of engagement data counts for each user\n",
    "\n",
    "        for _ in range(grouping[i]):\n",
    "            user_data.append(reacts[index])\n",
    "            index += 1\n",
    "\n",
    "        grouped_engagements.append(user_data)\n",
    "\n",
    "    return grouped_engagements"
   ]
  },
  {
   "cell_type": "code",
   "execution_count": null,
   "id": "dc06811c-4339-4da2-99c2-1be43a08ce6f",
   "metadata": {},
   "outputs": [
    {
     "data": {
      "text/plain": [
       "[['crazy_guy', 4, 9, 6, 5],\n",
       " ['solid321', 1, 2, 3, 5, 8],\n",
       " ['amicoolyet', 17, 2, 9]]"
      ]
     },
     "execution_count": 8,
     "metadata": {},
     "output_type": "execute_result"
    }
   ],
   "source": [
    "# %%\n",
    "\n",
    "gather_engagement(\n",
    "    [\"crazy_guy\", \"solid321\", \"amicoolyet\"], [4, 9, 6, 5, 1, 2, 3, 5, 8, 17, 2, 9], [4, 5, 3]\n",
    ")  # [['crazy_guy', 4, 9, 6, 5], ['solid321', 1, 2, 3, 5, 8], ['amicoolyet', 17, 2, 9]]"
   ]
  },
  {
   "cell_type": "code",
   "execution_count": null,
   "id": "cadf5338-d627-4afc-bcf4-1dcfdc32d01a",
   "metadata": {},
   "outputs": [
    {
     "data": {
      "text/plain": [
       "[['crazy_guy', 4, 9],\n",
       " ['solid321', 6],\n",
       " ['amicoolyet', 5, 1, 2, 3, 5, 8, 17, 2, 9]]"
      ]
     },
     "execution_count": 9,
     "metadata": {},
     "output_type": "execute_result"
    }
   ],
   "source": [
    "# %%\n",
    "\n",
    "gather_engagement(\n",
    "    [\"crazy_guy\", \"solid321\", \"amicoolyet\"], [4, 9, 6, 5, 1, 2, 3, 5, 8, 17, 2, 9], [2, 1, 9]\n",
    ")  # [['crazy_guy', 4, 9], ['solid321', 6], ['amicoolyet', 5, 1, 2, 3, 5, 8, 17, 2, 9]]"
   ]
  },
  {
   "cell_type": "code",
   "execution_count": null,
   "id": "2911592d-f52b-4219-8ea3-91a8bdaf7887",
   "metadata": {},
   "outputs": [
    {
     "data": {
      "text/plain": [
       "[['butter12'], ['helloworld', 40, 3, 35, 7]]"
      ]
     },
     "execution_count": 10,
     "metadata": {},
     "output_type": "execute_result"
    }
   ],
   "source": [
    "# %%\n",
    "\n",
    "gather_engagement(\n",
    "    [\"butter12\", \"helloworld\"], [40, 3, 35, 7], [0, 4]\n",
    ")  # [['butter12'], ['helloworld', 40, 3, 35, 7]]"
   ]
  },
  {
   "cell_type": "code",
   "execution_count": null,
   "id": "ecb28bf9-afac-4fdc-9e64-75b56f08567f",
   "metadata": {},
   "outputs": [],
   "source": [
    "# %%\n",
    "\n",
    "def clear_zeros(reacts_2D) -> list:\n",
    "    \"\"\"Removes all occurrences of zero from a 2D list.\n",
    "\n",
    "    Args:\n",
    "        reacts_2D:  A 2D list, potentially containing zeros.\n",
    "\n",
    "    Returns:\n",
    "        A new 2D list with all zeros removed.\n",
    "    \"\"\"\n",
    "    # Initialize a list to store cleared engagement data\n",
    "    cleared_reacts = []\n",
    "\n",
    "    for user_data in reacts_2D:\n",
    "        cleaned_data = []\n",
    "        # Remove zeros from each user's data\n",
    "\n",
    "        for value in user_data:\n",
    "            if value != 0:\n",
    "                cleaned_data.append(value)\n",
    "\n",
    "        # Add only non-empty lists\n",
    "        if cleaned_data:\n",
    "            cleared_reacts.append(cleaned_data)\n",
    "\n",
    "    return cleared_reacts"
   ]
  },
  {
   "cell_type": "code",
   "execution_count": null,
   "id": "4dfae1db-3806-4556-8cee-6e2563380015",
   "metadata": {},
   "outputs": [
    {
     "data": {
      "text/plain": [
       "[[4, 9], [1, 2, 5, 8], [17, 2]]"
      ]
     },
     "execution_count": 12,
     "metadata": {},
     "output_type": "execute_result"
    }
   ],
   "source": [
    "# %%\n",
    "\n",
    "user_reacts = [[4, 9, 0, 0], [1, 2, 0, 5, 8], [17, 2, 0]]\n",
    "clear_zeros(user_reacts)  # [[4, 9], [1, 2, 5, 8], [17, 2]]"
   ]
  },
  {
   "cell_type": "code",
   "execution_count": null,
   "id": "c2ad1318-63a7-4389-b952-d285ea2cbd05",
   "metadata": {},
   "outputs": [
    {
     "data": {
      "text/plain": [
       "[[1, 2], [17, 2, 4]]"
      ]
     },
     "execution_count": 13,
     "metadata": {},
     "output_type": "execute_result"
    }
   ],
   "source": [
    "# %%\n",
    "\n",
    "user_reacts = [[1, 2, 0], [0, 0, 0], [17, 2, 4, 0]]\n",
    "clear_zeros(user_reacts)  # [[1, 2], [17, 2, 4]]"
   ]
  },
  {
   "cell_type": "code",
   "execution_count": null,
   "id": "fdd985f0-1b28-450c-ae30-f8ca63244e16",
   "metadata": {},
   "outputs": [
    {
     "data": {
      "text/plain": [
       "[[40, 3], [35, 7]]"
      ]
     },
     "execution_count": 14,
     "metadata": {},
     "output_type": "execute_result"
    }
   ],
   "source": [
    "# %%\n",
    "\n",
    "user_reacts = [[40, 3], [35, 7]]\n",
    "clear_zeros(user_reacts)  # [[40, 3], [35, 7]]"
   ]
  },
  {
   "cell_type": "code",
   "execution_count": null,
   "id": "b2d20a0c-97ff-4a9a-834d-351f91bf33a3",
   "metadata": {},
   "outputs": [],
   "source": [
    "# %%\n",
    "\n",
    "def form_reactions_list(react_dict1, react_dict2) -> list:\n",
    "    \"\"\"Combines two dictionaries of reactions and returns a list of lists.\n",
    "\n",
    "    Args:\n",
    "        react_dict1: The first dictionary of reactions.\n",
    "        react_dict2: The second dictionary of reactions.\n",
    "\n",
    "    Returns:\n",
    "        A list of lists, where each sublist contains the reaction type and its combined count from both input dictionaries.\n",
    "    \"\"\"\n",
    "    # Initialize a dictionary to store the combined reactions\n",
    "    combined_reacts = {}\n",
    "\n",
    "    # Combine both dictionaries\n",
    "    for key, value in react_dict1.items():\n",
    "        combined_reacts[key] = value\n",
    "\n",
    "    for key, value in react_dict2.items():\n",
    "        if key in combined_reacts:\n",
    "            combined_reacts[key] += value\n",
    "        else:\n",
    "            combined_reacts[key] = value\n",
    "\n",
    "    # Convert dictionary to 2D list format\n",
    "    reactions_list = []\n",
    "    for key, value in combined_reacts.items():\n",
    "        reactions_list.append([key, value])\n",
    "\n",
    "    return reactions_list"
   ]
  },
  {
   "cell_type": "code",
   "execution_count": null,
   "id": "67d16533-fb59-4b35-9461-7c75e9c210ab",
   "metadata": {},
   "outputs": [
    {
     "data": {
      "text/plain": [
       "[['like', 10], ['comment', 10], ['share', 3], ['love', 10], ['wow', 2]]"
      ]
     },
     "execution_count": 16,
     "metadata": {},
     "output_type": "execute_result"
    }
   ],
   "source": [
    "# %%\n",
    "\n",
    "react1 = {\"like\": 5, \"comment\": 10, \"share\": 3}\n",
    "react2 = {\"love\": 10, \"like\": 5, \"wow\": 2}\n",
    "form_reactions_list(\n",
    "    react1, react2\n",
    ")  # [['like', 10], ['comment', 10], ['share', 3], ['love', 10], ['wow', 2]]"
   ]
  },
  {
   "cell_type": "code",
   "execution_count": null,
   "id": "a5ee3084-a0c0-45d3-8243-a59096c6cf55",
   "metadata": {},
   "outputs": [
    {
     "data": {
      "text/plain": [
       "[['wow', 68], ['angry', 18], ['comment', 2], ['sad', 84]]"
      ]
     },
     "execution_count": 17,
     "metadata": {},
     "output_type": "execute_result"
    }
   ],
   "source": [
    "# %%\n",
    "\n",
    "react1 = {\"wow\": 34, \"angry\": 9, \"comment\": 1, \"sad\": 42}\n",
    "react2 = {\"wow\": 34, \"angry\": 9, \"comment\": 1, \"sad\": 42}\n",
    "form_reactions_list(react1, react2)  # [['wow', 68], ['angry', 18], ['comment', 2], ['sad', 84]]"
   ]
  },
  {
   "cell_type": "code",
   "execution_count": null,
   "id": "02c7a20a-848c-461e-93b2-aa45f4a5f45c",
   "metadata": {},
   "outputs": [
    {
     "data": {
      "text/plain": [
       "[['angry', 54], ['love', 11], ['share', 21]]"
      ]
     },
     "execution_count": 18,
     "metadata": {},
     "output_type": "execute_result"
    }
   ],
   "source": [
    "# %%\n",
    "\n",
    "react1 = {\"angry\": 54, \"love\": 11}\n",
    "react2 = {\"share\": 21}\n",
    "form_reactions_list(react1, react2)  # [['angry', 54], ['love', 11], ['share', 21]]"
   ]
  },
  {
   "cell_type": "code",
   "execution_count": null,
   "id": "c1938b56-82df-47ef-bfef-32c1e1a09419",
   "metadata": {},
   "outputs": [],
   "source": [
    "# %%\n",
    "\n",
    "def form_reactions_dict(reacts_2D) -> dict:\n",
    "    \"\"\"Converts a 2D list of reactions and their counts into a dictionary.\n",
    "\n",
    "    Args:\n",
    "        reacts_2D: A 2D list where each sublist contains a reaction type and its count.\n",
    "\n",
    "    Returns:\n",
    "        A dictionary where keys are reaction types and values are their corresponding counts. The dictionary also includes a \"total\" key with the sum of all reaction counts.\n",
    "    \"\"\"\n",
    "    # Initialize dictionary to store reactions\n",
    "    reactions_dict = {}\n",
    "    total_count = 0  # To keep track of total reactions count\n",
    "\n",
    "    # Populate the dictionary and compute total count\n",
    "    for reaction, count in reacts_2D:\n",
    "        reactions_dict[reaction] = count\n",
    "        total_count += count\n",
    "\n",
    "    # Add total count entry\n",
    "    reactions_dict[\"total\"] = total_count\n",
    "\n",
    "    return reactions_dict"
   ]
  },
  {
   "cell_type": "code",
   "execution_count": null,
   "id": "5d658c65-e2a4-4221-9e66-92c8d7326693",
   "metadata": {},
   "outputs": [
    {
     "data": {
      "text/plain": [
       "{'like': 10, 'comment': 10, 'share': 3, 'love': 10, 'wow': 2, 'total': 35}"
      ]
     },
     "execution_count": 20,
     "metadata": {},
     "output_type": "execute_result"
    }
   ],
   "source": [
    "# %%\n",
    "\n",
    "form_reactions_dict(\n",
    "    [[\"like\", 10], [\"comment\", 10], [\"share\", 3], [\"love\", 10], [\"wow\", 2]]\n",
    ")  # {'like': 10, 'comment': 10, 'share': 3, 'love': 10, 'wow': 2, 'total': 35}"
   ]
  },
  {
   "cell_type": "code",
   "execution_count": null,
   "id": "25131a93-9be7-4873-8639-e5faa1812349",
   "metadata": {},
   "outputs": [
    {
     "data": {
      "text/plain": [
       "{'comment': 21, 'share': 26, 'love': 10, 'like': 5, 'wow': 2, 'total': 64}"
      ]
     },
     "execution_count": 21,
     "metadata": {},
     "output_type": "execute_result"
    }
   ],
   "source": [
    "# %%\n",
    "\n",
    "form_reactions_dict(\n",
    "    [[\"comment\", 21], [\"share\", 26], [\"love\", 10], [\"like\", 5], [\"wow\", 2]]\n",
    ")  # {'comment': 21, 'share': 26, 'love': 10, 'like': 5, 'wow': 2, 'total': 64}"
   ]
  },
  {
   "cell_type": "code",
   "execution_count": null,
   "id": "6f0688b4-b40f-4956-b6d4-d4f24d831886",
   "metadata": {},
   "outputs": [
    {
     "data": {
      "text/plain": [
       "{'wow': 34,\n",
       " 'angry': 9,\n",
       " 'comment': 1,\n",
       " 'sad': 43,\n",
       " 'haha': 11,\n",
       " 'love': 2,\n",
       " 'total': 100}"
      ]
     },
     "execution_count": 22,
     "metadata": {},
     "output_type": "execute_result"
    }
   ],
   "source": [
    "# %%\n",
    "\n",
    "form_reactions_dict(\n",
    "    [[\"wow\", 34], [\"angry\", 9], [\"comment\", 1], [\"sad\", 43], [\"haha\", 11], [\"love\", 2]]\n",
    ")  # {'wow': 34, 'angry': 9, 'comment': 1, 'sad': 43, 'haha': 11, 'love': 2, 'total': 100}"
   ]
  }
 ],
 "metadata": {
  "language_info": {
   "codemirror_mode": {
    "name": "ipython",
    "version": 3
   },
   "file_extension": ".py",
   "mimetype": "text/x-python",
   "name": "python",
   "nbconvert_exporter": "python",
   "pygments_lexer": "ipython3",
   "version": 3
  }
 },
 "nbformat": 4,
 "nbformat_minor": 2
}
